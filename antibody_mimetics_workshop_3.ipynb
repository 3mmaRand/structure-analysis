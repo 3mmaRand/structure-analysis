{
  "cells": [
    {
      "cell_type": "raw",
      "metadata": {},
      "source": [
        "---\n",
        "title: 'Workshop: programmatic protein structure analysis'\n",
        "subtitle: BIO00088H - Group Research Project\n",
        "---"
      ],
      "id": "70112d18"
    },
    {
      "cell_type": "markdown",
      "metadata": {},
      "source": [
        "# Based on the [Antibody Mimetics Workshop](https://colab.research.google.com/drive/187wIfCZTIbU7pgdrU1GDXxE_ihxRlmu3) by Michael Plevin & Jon Agirre\n",
        "\n",
        "## Understanding this document in RStudio\n",
        "\n",
        "You are using RStudio which is an integrated development environment (IDE) initially developed for R. It can now be used for many other languages including Python. You might find it useful because you have some familiar with with RStudio. It is also a very good way to create Quarto documents with code chunks in more than one language.\n",
        "\n",
        "For example, this is an R code chunk. You can also run it by clicking on the green arrow in the top right of the chunk. Or do  `Cmd+Return` on a Mac or `Ctrl+Return` on Windows.\n",
        "\n",
        "\n",
        "\n",
        "```{r}\n",
        "getwd()\n",
        "```\n",
        "\n",
        "Notice:\n",
        "-   prompt in the console is `>` as you are used to in R.\n",
        "-   The Environment Pane is showing an R environment\n",
        "\n",
        "This is a Python code chunk. You can also run it by clicking on the green arrow in the top right of the chunk. Or do  `Cmd+Return` on a Mac or `Ctrl+Return` on Windows.\n"
      ],
      "id": "5044dc41"
    },
    {
      "cell_type": "code",
      "metadata": {},
      "source": [
        "import os\n",
        "os.getcwd()"
      ],
      "id": "70d4ae5c",
      "execution_count": null,
      "outputs": []
    },
    {
      "cell_type": "markdown",
      "metadata": {},
      "source": [
        "Notice:\n",
        "-   the R command `reticulate::repl_python()` was sent to the console to start Python\n",
        "-   prompt in the console is `>>>`. This is the Python prompt. If you try typing R code like `getwd()` in the console at the `>>>` prompt you will get an error.\n",
        "-   The Environment Pane is showing a Python environment containing an 'interface' to the r environment. This is the `r` object. \n",
        "-   If you type `r.getwd()` in the console at the Python prompt you don't get an error. You get the same result as you did in the R code chunk above\n",
        "\n",
        "\n",
        "You can access R commands and R objects from you Python environment using the `r` object. For example, you can access the R vector object `an_r_obj` from Python using `r.an_r_obj`. \n",
        "\n",
        "Create a vector in R called `an_r_obj`:\n",
        "\n",
        "```{r}\n",
        "an_r_obj <- c(1, 2, 3)\n",
        "str(an_r_obj)\n",
        "```\n",
        "\n",
        "\n",
        "Try to access it from Python:"
      ],
      "id": "9335a775"
    },
    {
      "cell_type": "code",
      "metadata": {},
      "source": [
        "#| error: true\n",
        "an_r_obj"
      ],
      "id": "eca0a700",
      "execution_count": null,
      "outputs": []
    },
    {
      "cell_type": "markdown",
      "metadata": {},
      "source": [
        "You get an error because Python does not know about the R object `an_r_obj`. But you *can* access it using the `r` object:\n"
      ],
      "id": "3bcaecd0"
    },
    {
      "cell_type": "code",
      "metadata": {},
      "source": [
        "r.an_r_obj\n",
        "type(r.an_r_obj)"
      ],
      "id": "145749cf",
      "execution_count": null,
      "outputs": []
    },
    {
      "cell_type": "markdown",
      "metadata": {},
      "source": [
        "You can 'copy' it to your python environment if you want:\n"
      ],
      "id": "9c8c2f96"
    },
    {
      "cell_type": "code",
      "metadata": {},
      "source": [
        "acopy = r.an_r_obj\n",
        "type(acopy)"
      ],
      "id": "d8487da5",
      "execution_count": null,
      "outputs": []
    },
    {
      "cell_type": "markdown",
      "metadata": {},
      "source": [
        "`acopy` is in your Python environment now:\n",
        "\n",
        "\n",
        "Magic!\n",
        "\n",
        "Datatypes differ between the languages. Reticulate converts some automatically - for example R vectors to Python lists. For some other datatypes you must explicitly convert. \n",
        "\n",
        "\n",
        "You can also access Python objects from R using the `py` object. For example, you can access the Python list object `a_python_obj` from R using `py$a_python_obj`. However you do need to have loaded the `reticulate` package in R first.\n"
      ],
      "id": "d9804bfe"
    },
    {
      "cell_type": "code",
      "metadata": {},
      "source": [
        "a_python_obj = [4, 5, 6]"
      ],
      "id": "acf00f65",
      "execution_count": null,
      "outputs": []
    },
    {
      "cell_type": "markdown",
      "metadata": {},
      "source": [
        "```{r}\n",
        "library(reticulate)\n",
        "```\n",
        "\n",
        "```{r}\n",
        "py$a_python_obj\n",
        "```\n",
        "\n",
        "\n",
        "\n",
        "\n",
        "\n",
        "\n",
        "\n",
        "## Getting started\n",
        "\n",
        "This RStudio Project already has a folder to put the pbd file in. I have called it `pdb_files`. Jon called his `download`. When you are doing your own work you can make folders by\n",
        "-   clicking on the New Folder button in the Files Pane\n",
        "-   typing `mkdir -p pdb_files` in the *Terminal*\n",
        "  \n",
        "\n",
        "Make a folder for the pdb file. You could also do this \"house-keeping\" using the Files Pane in RStudio (New Folder)\n",
        "\n",
        "\n",
        "  \n",
        "\n",
        "\n",
        "\n",
        "\n",
        "Load the package\n"
      ],
      "id": "cec116d1"
    },
    {
      "cell_type": "code",
      "metadata": {},
      "source": [
        "import gemmi"
      ],
      "id": "54bc5fef",
      "execution_count": null,
      "outputs": []
    },
    {
      "cell_type": "markdown",
      "metadata": {},
      "source": [
        "Down load the pdb file. Again this command is not a python command but a shell command. You could just do `curl https://files.rcsb.org/download/4INS.pdb -o pdb_file/4INS.pdb` in the terminal.\n"
      ],
      "id": "28b6a5e3"
    },
    {
      "cell_type": "code",
      "metadata": {},
      "source": [
        "!curl https://files.rcsb.org/download/4INS.pdb -o pdb_file/4INS.pdb"
      ],
      "id": "067fce59",
      "execution_count": null,
      "outputs": []
    },
    {
      "cell_type": "markdown",
      "metadata": {},
      "source": [
        "I have used `curl` rather than `wget` because `wget` because most macOS and Windows do not come with `wget` by default. They mostly do have the very similar `curl`. Use is very similar but notice it is a lowercase `-o` for output rather than a capital `-O`. \n",
        "\n",
        "4INS is a 1.5 angstroems structure of insulin. We have seen structures of insulin in our first workshop. \n",
        "\n",
        "You can open the file to view it by clicking on it in the Files Pane.\n",
        "\n",
        "Here are a few basic but interesting questions about a protein structure we can answer using Python programming:\n",
        "\n",
        "-   What is the molecular weight of the protein?\n",
        "-   What is the modelled sequence? We know the UniPro sequence, but is it the same as the one in the crystal?\n",
        "-   What is the average B-factor per-residue? Would be neat to separate by main-chain and side-chain atoms.\n",
        "-   Does the protein have any disulphide bonds?\n",
        "\n",
        "\n",
        "Import the structure file:"
      ],
      "id": "73a56e54"
    },
    {
      "cell_type": "code",
      "metadata": {},
      "source": [
        "filename = \"pdb_file/4INS.pdb\" \n",
        "structure_file = gemmi.read_structure ( filename ) # remember gemmi.whatever?"
      ],
      "id": "9830c61d",
      "execution_count": null,
      "outputs": []
    },
    {
      "cell_type": "code",
      "metadata": {},
      "source": [
        "model = structure_file[0] # there can be more than one model per structure file!\n",
        "                          # in computer science 0 is the first index, so we are\n",
        "                          # getting the first (and only) model in the file"
      ],
      "id": "cf364a56",
      "execution_count": null,
      "outputs": []
    },
    {
      "cell_type": "markdown",
      "metadata": {},
      "source": [
        "all the attributes and methods"
      ],
      "id": "1d8d29d4"
    },
    {
      "cell_type": "code",
      "metadata": {},
      "source": [
        "dir(model)"
      ],
      "id": "b723cb05",
      "execution_count": null,
      "outputs": []
    },
    {
      "cell_type": "markdown",
      "metadata": {},
      "source": [
        "You can also click on it\n"
      ],
      "id": "d7af579d"
    },
    {
      "cell_type": "code",
      "metadata": {},
      "source": [
        "print ( \"This protein weights\", model.calculate_mass(), \"Da\" )"
      ],
      "id": "ac788b84",
      "execution_count": null,
      "outputs": []
    },
    {
      "cell_type": "code",
      "metadata": {},
      "source": [
        "print ( \"This protein weights %.2f Da\" % model.calculate_mass() )"
      ],
      "id": "fa8f76ff",
      "execution_count": null,
      "outputs": []
    },
    {
      "cell_type": "code",
      "metadata": {},
      "source": [
        "import numpy as np"
      ],
      "id": "dabcaa69",
      "execution_count": null,
      "outputs": []
    },
    {
      "cell_type": "code",
      "metadata": {},
      "source": [
        "print(model[0])"
      ],
      "id": "86115ed3",
      "execution_count": null,
      "outputs": []
    },
    {
      "cell_type": "code",
      "metadata": {},
      "source": [
        "print(model[1])"
      ],
      "id": "398c5ad7",
      "execution_count": null,
      "outputs": []
    },
    {
      "cell_type": "code",
      "metadata": {},
      "source": [
        "print(model[2])"
      ],
      "id": "ad666976",
      "execution_count": null,
      "outputs": []
    },
    {
      "cell_type": "code",
      "metadata": {},
      "source": [
        "print(model[3])"
      ],
      "id": "72a8c6bf",
      "execution_count": null,
      "outputs": []
    },
    {
      "cell_type": "code",
      "metadata": {},
      "source": [
        "for polymer in model :\n",
        "  print (polymer)"
      ],
      "id": "dbe6c0e1",
      "execution_count": null,
      "outputs": []
    },
    {
      "cell_type": "code",
      "metadata": {},
      "source": [
        "for polymer in model :\n",
        "  print (polymer)\n",
        "  for steve in polymer :\n",
        "    print(steve)"
      ],
      "id": "3ab6daad",
      "execution_count": null,
      "outputs": []
    },
    {
      "cell_type": "code",
      "metadata": {},
      "source": [
        "for polymer in model :\n",
        "  print (polymer)\n",
        "  for steve in polymer :\n",
        "    print(steve.name)"
      ],
      "id": "68805b2b",
      "execution_count": null,
      "outputs": []
    },
    {
      "cell_type": "code",
      "metadata": {},
      "source": [
        "for polymer in model :\n",
        "  print (polymer)\n",
        "  for steve in polymer :\n",
        "    print(gemmi.find_tabulated_residue(steve.name).one_letter_code.upper())"
      ],
      "id": "1136c5ab",
      "execution_count": null,
      "outputs": []
    },
    {
      "cell_type": "code",
      "metadata": {},
      "source": [
        "for polymer in model :\n",
        "  sequence = \"\"\n",
        "  print (polymer)\n",
        "  for steve in polymer :\n",
        "    sequence += gemmi.find_tabulated_residue(steve.name).one_letter_code.upper()\n",
        "  print (\"Polymer %s: %s\" % (polymer.name,sequence))"
      ],
      "id": "b5399799",
      "execution_count": null,
      "outputs": []
    },
    {
      "cell_type": "code",
      "metadata": {},
      "source": [
        "import statistics        # we will need to do stats, so we import the module\n",
        "\n",
        "aminoacid_bfactors = [ ] # these are lists where we are going to store the\n",
        "rest_bfactors      = [ ] # individual B-factors\n",
        "\n",
        "for chain in model :\n",
        "  for monomer in chain : # we'll call it monomer this time (name doesn't matter)\n",
        "    for atom in monomer :\n",
        "      if gemmi.find_tabulated_residue(monomer.name).is_amino_acid() :\n",
        "        aminoacid_bfactors.append ( atom.b_iso )\n",
        "      else :\n",
        "        rest_bfactors.append ( atom.b_iso )\n",
        "\n",
        "print ( \"Protein part mean(stdev) : %.2f (%.2f)\" % \\\n",
        "      ( statistics.mean ( aminoacid_bfactors ), statistics.stdev ( aminoacid_bfactors ) ))\n",
        "print ( \"Rest of atoms mean(stdev): %.2f (%.2f)\" % \\\n",
        "      ( statistics.mean ( rest_bfactors ), statistics.stdev ( rest_bfactors ) ))"
      ],
      "id": "b12df161",
      "execution_count": null,
      "outputs": []
    }
  ],
  "metadata": {
    "kernelspec": {
      "name": "python3",
      "language": "python",
      "display_name": "Python 3 (ipykernel)"
    }
  },
  "nbformat": 4,
  "nbformat_minor": 5
}